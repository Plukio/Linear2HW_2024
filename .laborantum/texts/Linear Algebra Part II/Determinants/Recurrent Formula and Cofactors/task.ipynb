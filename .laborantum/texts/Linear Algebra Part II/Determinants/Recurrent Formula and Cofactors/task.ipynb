{
 "cells": [
  {
   "cell_type": "code",
   "execution_count": 6,
   "metadata": {},
   "outputs": [],
   "source": [
    "import numpy as np\n",
    "import json_tricks"
   ]
  },
  {
   "cell_type": "code",
   "execution_count": 9,
   "metadata": {},
   "outputs": [],
   "source": [
    "answer = {\n",
    "    'task1': {\n",
    "        'C1': np.array([\n",
    "            ### YOUR CODE HERE ###\n",
    "            1.0, -0.0, 0.0, -2.0\n",
    "        ]).T,\n",
    "        'det': (\n",
    "            ### YOUR CODE HERE ###\n",
    "            -1\n",
    "        )\n",
    "    },\n",
    "    'task2': {\n",
    "        'C1': np.array(\n",
    "            ### YOUR CODE HERE ###\n",
    "            [1.0, -1.0, 0.0, -1.0]\n",
    "        ),\n",
    "        'det': (\n",
    "            ### YOUR CODE HERE ###\n",
    "            -1\n",
    "        )\n",
    "    }\n",
    "}"
   ]
  },
  {
   "cell_type": "code",
   "execution_count": 8,
   "metadata": {},
   "outputs": [
    {
     "data": {
      "text/plain": [
       "'{\"task1\": {\"C1\": {\"__ndarray__\": [1.0, -0.0, 0.0, -2.0], \"dtype\": \"float64\", \"shape\": [4]}, \"det\": -1}, \"task2\": {\"C1\": {\"__ndarray__\": [[[1.0, -1.0, 0.0, -1.0]]], \"dtype\": \"float64\", \"shape\": [1, 1, 4], \"Corder\": true}, \"det\": -1}}'"
      ]
     },
     "execution_count": 8,
     "metadata": {},
     "output_type": "execute_result"
    }
   ],
   "source": [
    "json_tricks.dump(answer, '.answer.json')"
   ]
  }
 ],
 "metadata": {
  "kernelspec": {
   "display_name": "Python 3",
   "language": "python",
   "name": "python3"
  },
  "language_info": {
   "codemirror_mode": {
    "name": "ipython",
    "version": 3
   },
   "file_extension": ".py",
   "mimetype": "text/x-python",
   "name": "python",
   "nbconvert_exporter": "python",
   "pygments_lexer": "ipython3",
   "version": "3.11.10"
  }
 },
 "nbformat": 4,
 "nbformat_minor": 2
}
