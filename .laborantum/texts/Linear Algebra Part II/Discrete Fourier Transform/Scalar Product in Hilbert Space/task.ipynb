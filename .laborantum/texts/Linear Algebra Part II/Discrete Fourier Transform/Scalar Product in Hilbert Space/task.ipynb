{
 "cells": [
  {
   "cell_type": "code",
   "execution_count": 1,
   "metadata": {},
   "outputs": [],
   "source": [
    "import numpy as np\n",
    "import json_tricks"
   ]
  },
  {
   "cell_type": "code",
   "execution_count": 2,
   "metadata": {},
   "outputs": [],
   "source": [
    "x = np.linspace(0, 1, 1000)\n",
    "dx = x[1] - x[0]  \n",
    "\n",
    "f1 = x\n",
    "f2 = x**2\n",
    "f3 = np.sin(x)\n",
    "f4 = np.cos(x)\n",
    "f5 = np.exp(x)\n",
    "\n",
    "def norm(f):\n",
    "    return np.sqrt(np.sum(f**2) * dx)\n",
    "\n",
    "def scalar_product(f, g):\n",
    "    return np.sum(f * g) * dx\n",
    "\n",
    "def cosine_similarity(f, g):\n",
    "    return scalar_product(f, g) / (norm(f) * norm(g))"
   ]
  },
  {
   "cell_type": "code",
   "execution_count": 3,
   "metadata": {},
   "outputs": [
    {
     "data": {
      "text/plain": [
       "'{\"task1\": {\"||x||\": 0.5777836972728934, \"||x^2||\": 0.4477731953807289, \"<x, x^2>\": 0.2505007510012515, \"cos\": 0.9682458769358576}, \"task2\": {\"||sin x||\": 0.5225228323436063, \"||cos x||\": 0.8532121018132693, \"<sin x, cos x>\": 0.35426414279677737, \"cos\": 0.7946299282920621}, \"task3\": {\"||exp x||\": 1.788498768022238, \"||sin x||\": 0.5225228323436063, \"<exp x, sin x>\": 0.9104757262283395, \"cos\": 0.9742590622392279}}'"
      ]
     },
     "execution_count": 3,
     "metadata": {},
     "output_type": "execute_result"
    }
   ],
   "source": [
    "### YOUR CODE HERE ###\n",
    "\n",
    "\n",
    "answer = {\n",
    "    'task1': {\n",
    "        '||x||': float(\n",
    "            ### YOUR CODE HERE ###\n",
    "            norm(f1)\n",
    "        ),\n",
    "        '||x^2||': float(\n",
    "            ### YOUR CODE HERE ###\n",
    "            norm(f2)\n",
    "        ),\n",
    "        '<x, x^2>': float(\n",
    "            ### YOUR CODE HERE ###\n",
    "            scalar_product(f1, f2)\n",
    "        ),\n",
    "        'cos': float(\n",
    "            ### YOUR CODE HERE ###\n",
    "            cosine_similarity(f1, f2)\n",
    "        ),\n",
    "    },\n",
    "    'task2': {\n",
    "        '||sin x||': float(\n",
    "            ### YOUR CODE HERE ###\n",
    "            norm(f3)\n",
    "        ),\n",
    "        '||cos x||': float(\n",
    "            ### YOUR CODE HERE ###\n",
    "            norm(f4)\n",
    "        ),\n",
    "        '<sin x, cos x>': float(\n",
    "            ### YOUR CODE HERE ###\n",
    "            scalar_product(f3, f4)\n",
    "        ),\n",
    "        'cos': float(\n",
    "            ### YOUR CODE HERE ###\n",
    "            cosine_similarity(f3, f4)\n",
    "        ),\n",
    "    },\n",
    "    'task3': {\n",
    "        '||exp x||': float(\n",
    "            ### YOUR CODE HERE ###\n",
    "            norm(f5)\n",
    "        ),\n",
    "        '||sin x||': float(\n",
    "            ### YOUR CODE HERE ###\n",
    "            norm(f3)\n",
    "        ),\n",
    "        '<exp x, sin x>': float(\n",
    "            ### YOUR CODE HERE ###\n",
    "            scalar_product(f5, f3)\n",
    "        ),\n",
    "        'cos': float(\n",
    "            ### YOUR CODE HERE ###\n",
    "            cosine_similarity(f5, f3)\n",
    "        ),\n",
    "    },\n",
    "}\n",
    "\n",
    "json_tricks.dump(answer, '.answer.json')"
   ]
  }
 ],
 "metadata": {
  "kernelspec": {
   "display_name": "Python 3",
   "language": "python",
   "name": "python3"
  },
  "language_info": {
   "codemirror_mode": {
    "name": "ipython",
    "version": 3
   },
   "file_extension": ".py",
   "mimetype": "text/x-python",
   "name": "python",
   "nbconvert_exporter": "python",
   "pygments_lexer": "ipython3",
   "version": "3.11.10"
  }
 },
 "nbformat": 4,
 "nbformat_minor": 2
}
