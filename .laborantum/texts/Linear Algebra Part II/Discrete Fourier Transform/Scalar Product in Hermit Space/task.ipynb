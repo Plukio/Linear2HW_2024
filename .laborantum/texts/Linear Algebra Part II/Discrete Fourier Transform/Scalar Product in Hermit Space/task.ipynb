{
 "cells": [
  {
   "cell_type": "code",
   "execution_count": 4,
   "metadata": {},
   "outputs": [],
   "source": [
    "import numpy as np\n",
    "import json_tricks"
   ]
  },
  {
   "cell_type": "code",
   "execution_count": 5,
   "metadata": {},
   "outputs": [],
   "source": [
    "u1 = np.array([1, 2, 3])\n",
    "v1 = np.array([1, -2, 3])\n",
    "u2 = np.array([1j, 2j, 3j])\n",
    "v2 = np.array([1j, -2j, 3j])\n",
    "u3 = np.array([1+1j, 1-1j, 1+2j])\n",
    "v3 = np.array([1j, 1j, 1j])\n",
    "\n",
    "def vector_norm(v):\n",
    "    return np.linalg.norm(v)\n",
    "\n",
    "def vector_scalar_product(u, v):\n",
    "    return np.vdot(u, v)  # Complex conjugate dot product\n",
    "\n",
    "def vector_cosine_similarity(u, v):\n",
    "    return np.real(vector_scalar_product(u, v)) / (vector_norm(u) * vector_norm(v))"
   ]
  },
  {
   "cell_type": "code",
   "execution_count": 8,
   "metadata": {},
   "outputs": [
    {
     "data": {
      "text/plain": [
       "'{\"task1\": {\"||u||\": {\"__complex__\": [3.7416573867739413, 0.0]}, \"||v||\": {\"__complex__\": [3.7416573867739413, 0.0]}, \"<u, v>\": {\"__complex__\": [6.0, 0.0]}, \"cos\": {\"__complex__\": [0.42857142857142855, 0.0]}}, \"task2\": {\"||u||\": {\"__complex__\": [3.7416573867739413, 0.0]}, \"||v||\": {\"__complex__\": [3.7416573867739413, 0.0]}, \"<u, v>\": {\"__complex__\": [6.0, 0.0]}, \"cos\": {\"__complex__\": [0.42857142857142855, 0.0]}}, \"task3\": {\"||u||\": {\"__complex__\": [3.0, 0.0]}, \"||v||\": {\"__complex__\": [1.7320508075688772, 0.0]}, \"<u, v>\": {\"__complex__\": [2.0, 3.0]}, \"cos\": {\"__complex__\": [0.3849001794597505, 0.0]}}}'"
      ]
     },
     "execution_count": 8,
     "metadata": {},
     "output_type": "execute_result"
    }
   ],
   "source": [
    "answer = {\n",
    "    'task1':{\n",
    "        '||u||': complex(\n",
    "            ### YOUR CODE HERE ###\n",
    "            vector_norm(u1)\n",
    "        ),\n",
    "        '||v||': complex(\n",
    "            ### YOUR CODE HERE ###\n",
    "            vector_norm(v1)\n",
    "        ),\n",
    "        '<u, v>': complex(\n",
    "            ### YOUR CODE HERE ###\n",
    "            vector_scalar_product(u1,v1)\n",
    "        ),\n",
    "        'cos': complex(\n",
    "            ### YOUR CODE HERE ###\n",
    "            vector_cosine_similarity(u1,v1)\n",
    "        ),\n",
    "    },\n",
    "    'task2':{\n",
    "        '||u||': complex(\n",
    "            ### YOUR CODE HERE ###\n",
    "            vector_norm(u2)\n",
    "        ),\n",
    "        '||v||': complex(\n",
    "            ### YOUR CODE HERE ###\n",
    "            vector_norm(v2)\n",
    "        ),\n",
    "        '<u, v>': complex(\n",
    "            ### YOUR CODE HERE ###\n",
    "            vector_scalar_product(u2,v2)\n",
    "        ),\n",
    "        'cos': complex(\n",
    "            ### YOUR CODE HERE ###\n",
    "            vector_cosine_similarity(u2,v2)\n",
    "        ),\n",
    "    },\n",
    "    'task3':{\n",
    "        '||u||': complex(\n",
    "            ### YOUR CODE HERE ###\n",
    "            vector_norm(u3)\n",
    "        ),\n",
    "        '||v||': complex(\n",
    "            ### YOUR CODE HERE ###\n",
    "            vector_norm(v3)\n",
    "        ),\n",
    "        '<u, v>': complex(\n",
    "            ### YOUR CODE HERE ###\n",
    "            vector_scalar_product(u3,v3)\n",
    "        ),\n",
    "        'cos': complex(\n",
    "            ### YOUR CODE HERE ###\n",
    "            vector_cosine_similarity(u3,v3)\n",
    "        ),\n",
    "    },\n",
    "}\n",
    "\n",
    "json_tricks.dump(answer, '.answer.json')"
   ]
  }
 ],
 "metadata": {
  "kernelspec": {
   "display_name": "Python 3",
   "language": "python",
   "name": "python3"
  },
  "language_info": {
   "codemirror_mode": {
    "name": "ipython",
    "version": 3
   },
   "file_extension": ".py",
   "mimetype": "text/x-python",
   "name": "python",
   "nbconvert_exporter": "python",
   "pygments_lexer": "ipython3",
   "version": "3.11.10"
  }
 },
 "nbformat": 4,
 "nbformat_minor": 2
}
